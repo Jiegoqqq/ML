{
 "cells": [
  {
   "cell_type": "markdown",
   "metadata": {},
   "source": [
    "# Perceptron Learning Algorithm (PLA) 演算法\n",
    "\n",
    "利用準備好的工具，實作 PLA 演算法，演算法細節可以參考林軒田老師的[機器學習基石](https://www.youtube.com/watch?v=WlpF1Phkv28&list=PLXVfgk9fNX2I7tB6oIINGBmW50rrmFTqf&index=6)影片。\n",
    "\n",
    "# 二維 PLA 展示"
   ]
  },
  {
   "cell_type": "code",
   "execution_count": 64,
   "metadata": {},
   "outputs": [],
   "source": [
    "# 載入準備好的工具\n",
    "import sys\n",
    "sys.path.append('.prepared')\n",
    "import pla as prepared"
   ]
  },
  {
   "cell_type": "code",
   "execution_count": 65,
   "metadata": {},
   "outputs": [],
   "source": [
    "# 重置預先準備好的 PLA 示範模型\n",
    "prepared.reset()"
   ]
  },
  {
   "cell_type": "code",
   "execution_count": 81,
   "metadata": {},
   "outputs": [
    {
     "data": {
      "image/png": "[encoded data removed]",
      "text/plain": [
       "<Figure size 432x288 with 1 Axes>"
      ]
     },
     "metadata": {
      "needs_background": "light"
     },
     "output_type": "display_data"
    }
   ],
   "source": [
    "# 更新該 PLA 模型\n",
    "prepared.update()\n",
    "\n",
    "# 繪製該 PLA 模型\n",
    "prepared.plot()\n",
    "\n",
    "# 執行多次觀察 PLA 模型迭代的過程，收斂後可以執行上面程式區段執行重置模型"
   ]
  },
  {
   "cell_type": "markdown",
   "metadata": {},
   "source": [
    "# 動手做\n",
    "\n",
    "完成下面程式區段的 `pla()`，並用其取代 `prepared.demo()`。注意由上往下尋找預測錯誤的資料，更新之後從下一筆繼續尋找，答案才會跟 `prepared.demo()` 完全一致。"
   ]
  },
  {
   "cell_type": "code",
   "execution_count": 113,
   "metadata": {
    "scrolled": true
   },
   "outputs": [
    {
     "name": "stdout",
     "output_type": "stream",
     "text": [
      "# 45 [-3.         3.0841436 -1.583081   2.391305   4.5287635]\n"
     ]
    }
   ],
   "source": [
    "import numpy as np\n",
    "def pla():\n",
    "    # TODO: start coding here... \n",
    "    # the first thing is to read `pla.dat`\n",
    "    f  = open('./pla.dat', 'r')\n",
    "    f = f.read()\n",
    "    f = f.split('\\n')# 用空格去逗號做分開\n",
    "    data = [line.split() for line in f] #在f的資料中每行去做格式轉換\n",
    "    del data[-1] #因為最後一個元素是空的所以刪掉\n",
    "    data_array = np.array(data, dtype=float)\n",
    "    \n",
    "    x = np.array(data_array[:,0:4]) #在資料中取出x\n",
    "    x = np.insert(x,0,1,axis=1) #增加第0維給x\n",
    "    y = np.array(data_array[:,4]) #在資料中取出y\n",
    "    w = np.zeros(5) #設定w的參數\n",
    "    \n",
    "    step = 0\n",
    "    while True:\n",
    "        error = 0\n",
    "        #利用公式計算\n",
    "        for i in range(0,len(x)):\n",
    "            if np.sign(w.dot(x[i])) != y[i]:\n",
    "                w += y[i]*x[i]\n",
    "                step += 1\n",
    "                error += 1\n",
    "        if (0 == error):\n",
    "            break\n",
    "    print('#',step,w)\n",
    "\n",
    "    \n",
    "if True: # TODO: change `False` to `True` once you finish `pla()`\n",
    "    pla()\n",
    "else:\n",
    "    prepared.demo()"
   ]
  }
 ],
 "metadata": {
  "kernelspec": {
   "display_name": "Python 3",
   "language": "python",
   "name": "python3"
  },
  "language_info": {
   "codemirror_mode": {
    "name": "ipython",
    "version": 3
   },
   "file_extension": ".py",
   "mimetype": "text/x-python",
   "name": "python",
   "nbconvert_exporter": "python",
   "pygments_lexer": "ipython3",
   "version": "3.6.13"
  }
 },
 "nbformat": 4,
 "nbformat_minor": 2
}
